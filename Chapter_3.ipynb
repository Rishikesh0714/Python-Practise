{
 "cells": [
  {
   "cell_type": "markdown",
   "metadata": {},
   "source": [
    "# 3. Introducing Lists"
   ]
  },
  {
   "cell_type": "code",
   "execution_count": 1,
   "metadata": {},
   "outputs": [
    {
     "name": "stdout",
     "output_type": "stream",
     "text": [
      "['trek', 'cannondale', 'redline', 'specialized', 1]\n"
     ]
    }
   ],
   "source": [
    "# square brackets ([]) indicate a list \n",
    "bicycles = ['trek', 'cannondale', 'redline', 'specialized',1]\n",
    "print(bicycles)"
   ]
  },
  {
   "cell_type": "markdown",
   "metadata": {},
   "source": [
    "## Index Positions Start at 0, Not 1"
   ]
  },
  {
   "cell_type": "code",
   "execution_count": 2,
   "metadata": {},
   "outputs": [
    {
     "name": "stdout",
     "output_type": "stream",
     "text": [
      "trek\n"
     ]
    }
   ],
   "source": [
    "# To access an element in a list, write the name of the list followed by the index/position of the item enclosed in square brackets.\n",
    "print(bicycles[0])"
   ]
  },
  {
   "cell_type": "code",
   "execution_count": 3,
   "metadata": {},
   "outputs": [
    {
     "name": "stdout",
     "output_type": "stream",
     "text": [
      "redline cannondale\n"
     ]
    }
   ],
   "source": [
    "print(bicycles[2], bicycles[1])"
   ]
  },
  {
   "cell_type": "code",
   "execution_count": 4,
   "metadata": {},
   "outputs": [
    {
     "name": "stdout",
     "output_type": "stream",
     "text": [
      "specialized\n"
     ]
    }
   ],
   "source": [
    "print(bicycles[-2])"
   ]
  },
  {
   "cell_type": "code",
   "execution_count": 5,
   "metadata": {},
   "outputs": [
    {
     "data": {
      "text/plain": [
       "'my first bicycl was Trek'"
      ]
     },
     "execution_count": 5,
     "metadata": {},
     "output_type": "execute_result"
    }
   ],
   "source": [
    "f\"my first bicycl was {bicycles[0].title()}\""
   ]
  },
  {
   "cell_type": "markdown",
   "metadata": {},
   "source": [
    "### 3-1. Names: Store the names of a few of your friends in a list called names. Print each person’s name by accessing each element in the list, one at a time."
   ]
  },
  {
   "cell_type": "code",
   "execution_count": 6,
   "metadata": {},
   "outputs": [
    {
     "name": "stdout",
     "output_type": "stream",
     "text": [
      "soham\n",
      "nilesh\n",
      "drishti\n",
      "durva\n"
     ]
    }
   ],
   "source": [
    "names = [\"soham\",\"nilesh\",\"drishti\",\"durva\"]\n",
    "print(names[0])\n",
    "print(names[1])\n",
    "print(names[2])\n",
    "print(names[3])"
   ]
  },
  {
   "cell_type": "markdown",
   "metadata": {},
   "source": [
    "### 3-2. Greetings: Start with the list you used in Exercise 3-1, but instead of just printing each person’s name, print a message to them. The text of each message should be the same, but each message should be personalized with the person’s name."
   ]
  },
  {
   "cell_type": "code",
   "execution_count": 7,
   "metadata": {},
   "outputs": [
    {
     "name": "stdout",
     "output_type": "stream",
     "text": [
      "Hi Soham!\n",
      "Hi Nilesh!\n",
      "Hi Drishti!\n",
      "Hi Durva!\n"
     ]
    }
   ],
   "source": [
    "print(f\"Hi {names[0].title()}!\")\n",
    "print(f\"Hi {names[1].title()}!\")\n",
    "print(f\"Hi {names[2].title()}!\")\n",
    "print(f\"Hi {names[3].title()}!\")"
   ]
  },
  {
   "cell_type": "markdown",
   "metadata": {},
   "source": [
    "### 3-3. Your Own List: Think of your favorite mode of transportation, such as a motorcycle or a car, and make a list that stores several examples. Use your list to print a series of statements about these items, such as “I would like to own a Honda motorcycle.”"
   ]
  },
  {
   "cell_type": "code",
   "execution_count": 8,
   "metadata": {},
   "outputs": [
    {
     "name": "stdout",
     "output_type": "stream",
     "text": [
      "I like to travel by Car\n"
     ]
    }
   ],
   "source": [
    "transport = [\"car\",\"bus\",\"cycle\",\"rickshaw\"]\n",
    "print(f\"I like to travel by {transport[0].title()}\")"
   ]
  },
  {
   "cell_type": "markdown",
   "metadata": {},
   "source": [
    "### add elements"
   ]
  },
  {
   "cell_type": "code",
   "execution_count": 9,
   "metadata": {},
   "outputs": [
    {
     "name": "stdout",
     "output_type": "stream",
     "text": [
      "['honda', 'yamaha', 'suzuki']\n",
      "['ducati', 'yamaha', 'suzuki']\n"
     ]
    }
   ],
   "source": [
    "motorcycles = ['honda', 'yamaha', 'suzuki']\n",
    "print(motorcycles)\n",
    "motorcycles[0] = 'ducati'\n",
    "print(motorcycles)"
   ]
  },
  {
   "cell_type": "code",
   "execution_count": 10,
   "metadata": {},
   "outputs": [
    {
     "data": {
      "text/plain": [
       "['ducati', 'yamaha', 'suzuki', 'honda']"
      ]
     },
     "execution_count": 10,
     "metadata": {},
     "output_type": "execute_result"
    }
   ],
   "source": [
    "#append\n",
    "\n",
    "motorcycles.append('honda')\n",
    "motorcycles"
   ]
  },
  {
   "cell_type": "code",
   "execution_count": 11,
   "metadata": {},
   "outputs": [
    {
     "data": {
      "text/plain": [
       "['ducati', 'yamaha', 'harley davidson', 'suzuki', 'honda']"
      ]
     },
     "execution_count": 11,
     "metadata": {},
     "output_type": "execute_result"
    }
   ],
   "source": [
    "#Inserting Elements into a List\n",
    "\n",
    "motorcycles.insert(2,'harley davidson')\n",
    "motorcycles"
   ]
  },
  {
   "cell_type": "markdown",
   "metadata": {},
   "source": [
    "## Removing Elements from a List"
   ]
  },
  {
   "cell_type": "code",
   "execution_count": 12,
   "metadata": {},
   "outputs": [
    {
     "data": {
      "text/plain": [
       "['ducati', 'harley davidson', 'suzuki', 'honda']"
      ]
     },
     "execution_count": 12,
     "metadata": {},
     "output_type": "execute_result"
    }
   ],
   "source": [
    "# Removing Elements from a List\n",
    "#del statement\n",
    "\n",
    "del motorcycles[1]\n",
    "motorcycles"
   ]
  },
  {
   "cell_type": "code",
   "execution_count": 13,
   "metadata": {},
   "outputs": [
    {
     "name": "stdout",
     "output_type": "stream",
     "text": [
      "['ducati', 'harley davidson', 'suzuki']\n",
      "honda\n"
     ]
    }
   ],
   "source": [
    "# Removing an Item Using the pop() Method\n",
    "\n",
    "pop_motorcycles = motorcycles.pop()\n",
    "print(motorcycles)\n",
    "print(pop_motorcycles)"
   ]
  },
  {
   "cell_type": "code",
   "execution_count": 14,
   "metadata": {},
   "outputs": [
    {
     "name": "stdout",
     "output_type": "stream",
     "text": [
      "['ducati', 'suzuki']\n",
      "harley davidson\n"
     ]
    }
   ],
   "source": [
    "# Popping Items from any Position in a List\n",
    "\n",
    "pop_motorcycles = motorcycles.pop(1)\n",
    "print(motorcycles)\n",
    "print(pop_motorcycles)"
   ]
  },
  {
   "cell_type": "code",
   "execution_count": 15,
   "metadata": {},
   "outputs": [
    {
     "data": {
      "text/plain": [
       "['honda', 'suzuki']"
      ]
     },
     "execution_count": 15,
     "metadata": {},
     "output_type": "execute_result"
    }
   ],
   "source": [
    "# Removing an Item by Value\n",
    "# remove method\n",
    "\n",
    "motorcycles = ['honda', 'yamaha', 'suzuki']\n",
    "motorcycles.remove(\"yamaha\")\n",
    "motorcycles"
   ]
  },
  {
   "cell_type": "markdown",
   "metadata": {},
   "source": [
    "### Note: The remove() method deletes only the first occurrence of the value you specify. If there’s a possibility the value appears more than once in the list, you’ll need to use a loop to make sure all occurrences of the value are removed. You’ll learn how to do this in Chapter 7."
   ]
  },
  {
   "cell_type": "markdown",
   "metadata": {},
   "source": [
    "### 3-4. Guest List: If you could invite anyone, living or deceased, to dinner, who would you invite? Make a list that includes at least three people you’d like to invite to dinner. Then use your list to print a message to each person, inviting them to dinner.\n"
   ]
  },
  {
   "cell_type": "code",
   "execution_count": 16,
   "metadata": {},
   "outputs": [
    {
     "name": "stdout",
     "output_type": "stream",
     "text": [
      "You have an invitation to exceptional spectular dinner party Sonu\n",
      "You have an invitation to exceptional spectular dinner party Nilesh\n",
      "You have an invitation to exceptional spectular dinner party Drishti\n",
      "You have an invitation to exceptional spectular dinner party Soham\n",
      "You have an invitation to exceptional spectular dinner party Durva\n"
     ]
    }
   ],
   "source": [
    "invite = [\"sonu\",'nilesh','drishti','soham','durva']\n",
    "for i in invite: print(f\"You have an invitation to exceptional spectular dinner party {i.title()}\")"
   ]
  },
  {
   "cell_type": "markdown",
   "metadata": {},
   "source": [
    "### 3-5. Changing Guest List: You just heard that one of your guests can’t make the dinner, so you need to send out a new set of invitations. You’ll have to think of someone else to invite.\n",
    "### • Start with your program from Exercise 3-4. Add a print() call at the end of your program stating the name of the guest who can’t make it.\n",
    "### • Modify your list, replacing the name of the guest who can’t make it with the name of the new person you are inviting.\n",
    "### • Print a second set of invitation messages, one for each person who is still in your list."
   ]
  },
  {
   "cell_type": "code",
   "execution_count": 17,
   "metadata": {},
   "outputs": [
    {
     "name": "stdout",
     "output_type": "stream",
     "text": [
      "Nilesh shown regret he cant come\n",
      "You have an invitation to exceptional spectular dinner party Sonu\n",
      "You have an invitation to exceptional spectular dinner party Rish\n",
      "You have an invitation to exceptional spectular dinner party Drishti\n",
      "You have an invitation to exceptional spectular dinner party Soham\n",
      "You have an invitation to exceptional spectular dinner party Durva\n"
     ]
    }
   ],
   "source": [
    "invite = [\"sonu\",'nilesh','drishti','soham','durva']\n",
    "print(f\"{invite[1].title()} shown regret he cant come\")\n",
    "del invite[1]\n",
    "invite.insert(1,'rish')\n",
    "for i in invite : print(f'You have an invitation to exceptional spectular dinner party {i.title()}')"
   ]
  },
  {
   "cell_type": "markdown",
   "metadata": {},
   "source": [
    "### 3-6. More Guests: You just found a bigger dinner table, so now more space is available. Think of three more guests to invite to dinner.\n",
    "### • Start with your program from Exercise 3-4 or Exercise 3-5. Add a print() call to the end of your program informing people that you found a bigger dinner table.\n",
    "### • Use insert() to add one new guest to the beginning of your list.\n",
    "### • Use insert() to add one new guest to the middle of your list.\n",
    "### • Use append() to add one new guest to the end of your list.\n",
    "### • Print a new set of invitation messages, one for each person in your list."
   ]
  },
  {
   "cell_type": "code",
   "execution_count": 18,
   "metadata": {},
   "outputs": [
    {
     "name": "stdout",
     "output_type": "stream",
     "text": [
      "['tabu', 'sonu', 'nilesh', 'sir', 'drishti', 'soham', 'durva', 'taz']\n",
      "You have an invitation to exceptional spectular dinner party Tabu\n",
      "You have an invitation to exceptional spectular dinner party Sonu\n",
      "You have an invitation to exceptional spectular dinner party Nilesh\n",
      "You have an invitation to exceptional spectular dinner party Sir\n",
      "You have an invitation to exceptional spectular dinner party Drishti\n",
      "You have an invitation to exceptional spectular dinner party Soham\n",
      "You have an invitation to exceptional spectular dinner party Durva\n",
      "You have an invitation to exceptional spectular dinner party Taz\n"
     ]
    }
   ],
   "source": [
    "invite = [\"sonu\",'nilesh','drishti','soham','durva']\n",
    "invite.insert(0,\"tabu\")\n",
    "invite.insert(3,'sir')\n",
    "invite.append('taz')\n",
    "print(invite)\n",
    "for i in invite : print(f'You have an invitation to exceptional spectular dinner party {i.title()}')"
   ]
  },
  {
   "cell_type": "code",
   "execution_count": 19,
   "metadata": {},
   "outputs": [],
   "source": [
    "invite.insert(12,\"hi\")"
   ]
  },
  {
   "cell_type": "code",
   "execution_count": 20,
   "metadata": {},
   "outputs": [
    {
     "data": {
      "text/plain": [
       "['tabu', 'sonu', 'nilesh', 'sir', 'drishti', 'soham', 'durva', 'taz', 'hi']"
      ]
     },
     "execution_count": 20,
     "metadata": {},
     "output_type": "execute_result"
    }
   ],
   "source": [
    "invite"
   ]
  },
  {
   "cell_type": "code",
   "execution_count": 21,
   "metadata": {},
   "outputs": [
    {
     "data": {
      "text/plain": [
       "'hi'"
      ]
     },
     "execution_count": 21,
     "metadata": {},
     "output_type": "execute_result"
    }
   ],
   "source": [
    "invite[8]"
   ]
  },
  {
   "cell_type": "markdown",
   "metadata": {},
   "source": [
    "### 3-7. Shrinking Guest List: You just found out that your new dinner table won’t arrive in time for the dinner, and you have space for only two guests.\n",
    "### • Start with your program from Exercise 3-6. Add a new line that prints a message saying that you can invite only two people for dinner.\n",
    "### • Use pop() to remove guests from your list one at a time until only two names remain in your list. Each time you pop a name from your list, print a message to that person letting them know you’re sorry you can’t invitethem to dinner.\n",
    "### • Print a message to each of the two people still on your list, letting them know they’re still invited.\n",
    "### • Use del to remove the last two names from your list, so you have an empty list. Print your list to make sure you actually have an empty list at the end of your program."
   ]
  },
  {
   "cell_type": "code",
   "execution_count": 22,
   "metadata": {},
   "outputs": [
    {
     "name": "stdout",
     "output_type": "stream",
     "text": [
      "I can invite only two peoples for dinner\n",
      "I cant invite you Nilesh for party\n",
      "I cant invite you Durva for party\n",
      "I cant invite you Sonu for party\n",
      "You have an invitation to exceptional spectular dinner party Drishti\n",
      "You have an invitation to exceptional spectular dinner party Soham\n"
     ]
    },
    {
     "data": {
      "text/plain": [
       "[]"
      ]
     },
     "execution_count": 22,
     "metadata": {},
     "output_type": "execute_result"
    }
   ],
   "source": [
    "invite = [\"sonu\",'nilesh','drishti','soham','durva']\n",
    "print(\"I can invite only two peoples for dinner\")\n",
    "for i in (1,3,0):\n",
    "    not_invite= invite.pop(i)\n",
    "    print(f\"I cant invite you {not_invite.title()} for party\")\n",
    "for i in invite :\n",
    "    print(f'You have an invitation to exceptional spectular dinner party {i.title()}')\n",
    "\n",
    "del invite [0]\n",
    "del invite [0]\n",
    "invite"
   ]
  },
  {
   "cell_type": "markdown",
   "metadata": {},
   "source": [
    "## Sorting a List Permanently with the sort() Method"
   ]
  },
  {
   "cell_type": "code",
   "execution_count": 23,
   "metadata": {},
   "outputs": [
    {
     "name": "stdout",
     "output_type": "stream",
     "text": [
      "['apple', 'grapes', 'mango', 'orange']\n",
      "['orange', 'mango', 'grapes', 'apple']\n"
     ]
    }
   ],
   "source": [
    "fruits = [\"mango\",'grapes','orange','apple']\n",
    "fruits.sort()\n",
    "print(fruits)\n",
    "fruits.sort(reverse = True)\n",
    "print(fruits)"
   ]
  },
  {
   "cell_type": "markdown",
   "metadata": {},
   "source": [
    "## Sorting a List Temporarily with the sorted() Function\n",
    "### The sorted() function lets you display your list in a particular order but doesn’t affect the actual order of the list."
   ]
  },
  {
   "cell_type": "code",
   "execution_count": 24,
   "metadata": {},
   "outputs": [
    {
     "name": "stdout",
     "output_type": "stream",
     "text": [
      "Here is the original list:\n",
      "['bmw', 'audi', 'toyota', 'subaru']\n",
      "\n",
      "Here is the sorted list\n",
      "['audi', 'bmw', 'subaru', 'toyota']\n",
      "\n",
      "Here is the orignal list again :\n",
      "['bmw', 'audi', 'toyota', 'subaru']\n"
     ]
    }
   ],
   "source": [
    "cars = ['bmw', 'audi', 'toyota', 'subaru']\n",
    "print(\"Here is the original list:\")\n",
    "print(cars)\n",
    "print(\"\\nHere is the sorted list\")\n",
    "print(sorted(cars))\n",
    "print('\\nHere is the orignal list again :')\n",
    "print(cars)"
   ]
  },
  {
   "cell_type": "markdown",
   "metadata": {},
   "source": [
    "\n",
    "## Note: Sorting a list alphabetically is a bit more complicated when all the values are not in lowercase. There are several ways to interpret capital letters when determining a sort order, and specifying the exact order can be more complex than we want to deal with at this time. However, most approaches to sorting will build directly on what you learned in this section."
   ]
  },
  {
   "cell_type": "markdown",
   "metadata": {},
   "source": [
    "## Printing a List in Reverse Order\n",
    "### To reverse the original order of a list, you can use the reverse() method."
   ]
  },
  {
   "cell_type": "code",
   "execution_count": 25,
   "metadata": {},
   "outputs": [
    {
     "data": {
      "text/plain": [
       "['subaru', 'toyota', 'audi', 'bmw']"
      ]
     },
     "execution_count": 25,
     "metadata": {},
     "output_type": "execute_result"
    }
   ],
   "source": [
    "# print(cars)\n",
    "cars.reverse()\n",
    "# print(cars)\n",
    "cars"
   ]
  },
  {
   "cell_type": "markdown",
   "metadata": {},
   "source": [
    "## Finding the Length of a List\n",
    "### len() function"
   ]
  },
  {
   "cell_type": "code",
   "execution_count": 26,
   "metadata": {},
   "outputs": [
    {
     "data": {
      "text/plain": [
       "4"
      ]
     },
     "execution_count": 26,
     "metadata": {},
     "output_type": "execute_result"
    }
   ],
   "source": [
    "len(cars)"
   ]
  },
  {
   "cell_type": "markdown",
   "metadata": {},
   "source": [
    "## Note : Python counts the items in a list starting with one, so you shouldn’t run into any off by-one errors when determining the length of a list."
   ]
  },
  {
   "cell_type": "markdown",
   "metadata": {},
   "source": [
    "## 3-8. Seeing the World: Think of at least five places in the world you’d like to visit.\n",
    "## • Store the locations in a list. Make sure the list is not in alphabetical order.\n",
    "## • Print your list in its original order. Don’t worry about printing the list neatly, just print it as a raw Python list.\n",
    "## • Use sorted() to print your list in alphabetical order without modifying the actual list.\n",
    "## • Show that your list is still in its original order by printing it.\n",
    "## • Use sorted() to print your list in reverse alphabetical order without changing the order of the original list.\n",
    "## • Show that your list is still in its original order by printing it again.\n",
    "## • Use reverse() to change the order of your list. Print the list to show that its order has changed.\n",
    "## • Use reverse() to change the order of your list again. Print the list to show it’s back to its original order.\n",
    "## • Use sort() to change your list so it’s stored in alphabetical order. Print the list to show that its order has been changed.\n",
    "## • Use sort() to change your list so it’s stored in reverse alphabetical order. Print the list to show that its order has changed."
   ]
  },
  {
   "cell_type": "code",
   "execution_count": 27,
   "metadata": {},
   "outputs": [
    {
     "name": "stdout",
     "output_type": "stream",
     "text": [
      "Original list:\n",
      "['paris', 'switzerland', 'london', 'america', 'goa', 'kerla']\n",
      "sorted list temprary\n",
      "['america', 'goa', 'kerla', 'london', 'paris', 'switzerland']\n",
      "my list is still in orginal state\n",
      "['paris', 'switzerland', 'london', 'america', 'goa', 'kerla']\n",
      "temprory list in reverse order\n",
      "['switzerland', 'paris', 'london', 'kerla', 'goa', 'america']\n",
      "my list is still in orginal state\n",
      "['paris', 'switzerland', 'london', 'america', 'goa', 'kerla']\n",
      "list in reverse order\n",
      "['kerla', 'goa', 'america', 'london', 'switzerland', 'paris']\n",
      "list in reverse order again = origanl list\n",
      "['paris', 'switzerland', 'london', 'america', 'goa', 'kerla']\n",
      "permantly sorted list\n",
      "['america', 'goa', 'kerla', 'london', 'paris', 'switzerland']\n",
      "permantly sorted list reverse alphabetical\n",
      "['switzerland', 'paris', 'london', 'kerla', 'goa', 'america']\n"
     ]
    }
   ],
   "source": [
    "# Q.1\n",
    "places = ['paris','switzerland','london','america','goa','kerla']\n",
    "# Q.2\n",
    "print('Original list:')\n",
    "print(places)\n",
    "# Q.3\n",
    "print(\"sorted list temprary\")\n",
    "print( sorted(places))\n",
    "# Q.4\n",
    "print (\"my list is still in orginal state\")\n",
    "print(places)\n",
    "# Q.5\n",
    "print('temprory list in reverse order')\n",
    "print(sorted(places,reverse = True))\n",
    "# Q.6\n",
    "print (\"my list is still in orginal state\")\n",
    "print(places)\n",
    "# Q.7\n",
    "places.reverse()\n",
    "print('list in reverse order')\n",
    "print(places)\n",
    "# Q.8\n",
    "places.reverse()\n",
    "print('list in reverse order again = origanl list')\n",
    "print(places)\n",
    "# Q.9\n",
    "places.sort()\n",
    "print('permantly sorted list')\n",
    "print(places)\n",
    "# Q.10\n",
    "places.sort(reverse = True)\n",
    "print('permantly sorted list reverse alphabetical')\n",
    "print(places)"
   ]
  },
  {
   "cell_type": "markdown",
   "metadata": {},
   "source": [
    "## 3-9. Dinner Guests: Working with one of the programs from Exercises 3-4 through 3-7 (page 42), use len() to print a message indicating the number of people you are inviting to dinner.\n"
   ]
  },
  {
   "cell_type": "code",
   "execution_count": 28,
   "metadata": {},
   "outputs": [
    {
     "name": "stdout",
     "output_type": "stream",
     "text": [
      "I have invited 5 number of people\n"
     ]
    }
   ],
   "source": [
    "invite = [\"sonu\",'nilesh','drishti','soham','durva']\n",
    "print(f'I have invited {len(invite)} number of people')"
   ]
  },
  {
   "cell_type": "code",
   "execution_count": 29,
   "metadata": {},
   "outputs": [
    {
     "data": {
      "text/plain": [
       "['one', 'two', 'three', 'four', 'five', 'six']"
      ]
     },
     "execution_count": 29,
     "metadata": {},
     "output_type": "execute_result"
    }
   ],
   "source": [
    "list = ['one','two','three','four','five','six']\n",
    "list"
   ]
  },
  {
   "cell_type": "code",
   "execution_count": 30,
   "metadata": {},
   "outputs": [
    {
     "data": {
      "text/plain": [
       "['seven', 'two', 'three', 'four', 'five', 'six']"
      ]
     },
     "execution_count": 30,
     "metadata": {},
     "output_type": "execute_result"
    }
   ],
   "source": [
    "list[0] = 'seven'\n",
    "list"
   ]
  },
  {
   "cell_type": "code",
   "execution_count": 31,
   "metadata": {},
   "outputs": [
    {
     "data": {
      "text/plain": [
       "['seven', 'two', 'three', 'four', 'five', 'six', 'eight']"
      ]
     },
     "execution_count": 31,
     "metadata": {},
     "output_type": "execute_result"
    }
   ],
   "source": [
    "list.append(\"eight\")\n",
    "list"
   ]
  },
  {
   "cell_type": "code",
   "execution_count": 32,
   "metadata": {},
   "outputs": [
    {
     "data": {
      "text/plain": [
       "['seven', 'two', 'three', 'nine at postion 3', 'four', 'five', 'six', 'eight']"
      ]
     },
     "execution_count": 32,
     "metadata": {},
     "output_type": "execute_result"
    }
   ],
   "source": [
    "list.insert(3,'nine at postion 3')\n",
    "list"
   ]
  },
  {
   "cell_type": "code",
   "execution_count": 33,
   "metadata": {},
   "outputs": [
    {
     "data": {
      "text/plain": [
       "['seven', 'two', 'three', 'four', 'five', 'six', 'eight']"
      ]
     },
     "execution_count": 33,
     "metadata": {},
     "output_type": "execute_result"
    }
   ],
   "source": [
    "del list[3]\n",
    "list"
   ]
  },
  {
   "cell_type": "code",
   "execution_count": 34,
   "metadata": {},
   "outputs": [
    {
     "name": "stdout",
     "output_type": "stream",
     "text": [
      "['seven', 'two', 'three', 'four', 'five', 'six']\n",
      "eight\n"
     ]
    }
   ],
   "source": [
    "poped_ele = list.pop()\n",
    "print(list)\n",
    "print(poped_ele)"
   ]
  },
  {
   "cell_type": "code",
   "execution_count": 35,
   "metadata": {},
   "outputs": [
    {
     "name": "stdout",
     "output_type": "stream",
     "text": [
      "['seven', 'two', 'four', 'five', 'six']\n",
      "three\n"
     ]
    }
   ],
   "source": [
    "poped_ele = list.pop(2)\n",
    "print(list)\n",
    "print(poped_ele)"
   ]
  },
  {
   "cell_type": "code",
   "execution_count": 36,
   "metadata": {},
   "outputs": [
    {
     "data": {
      "text/plain": [
       "['seven', 'two', 'four', 'six']"
      ]
     },
     "execution_count": 36,
     "metadata": {},
     "output_type": "execute_result"
    }
   ],
   "source": [
    "list.remove('five')\n",
    "list"
   ]
  },
  {
   "cell_type": "code",
   "execution_count": 37,
   "metadata": {},
   "outputs": [
    {
     "name": "stdout",
     "output_type": "stream",
     "text": [
      "['four', 'seven', 'six', 'two']\n"
     ]
    },
    {
     "data": {
      "text/plain": [
       "['seven', 'two', 'four', 'six']"
      ]
     },
     "execution_count": 37,
     "metadata": {},
     "output_type": "execute_result"
    }
   ],
   "source": [
    "print(sorted(list))\n",
    "list"
   ]
  },
  {
   "cell_type": "code",
   "execution_count": 38,
   "metadata": {},
   "outputs": [
    {
     "name": "stdout",
     "output_type": "stream",
     "text": [
      "['two', 'six', 'seven', 'four']\n"
     ]
    },
    {
     "data": {
      "text/plain": [
       "['seven', 'two', 'four', 'six']"
      ]
     },
     "execution_count": 38,
     "metadata": {},
     "output_type": "execute_result"
    }
   ],
   "source": [
    "print(sorted(list,reverse = True))\n",
    "list"
   ]
  },
  {
   "cell_type": "code",
   "execution_count": 39,
   "metadata": {},
   "outputs": [
    {
     "data": {
      "text/plain": [
       "['six', 'four', 'two', 'seven']"
      ]
     },
     "execution_count": 39,
     "metadata": {},
     "output_type": "execute_result"
    }
   ],
   "source": [
    "list.reverse()\n",
    "list"
   ]
  },
  {
   "cell_type": "code",
   "execution_count": 40,
   "metadata": {},
   "outputs": [
    {
     "data": {
      "text/plain": [
       "['seven', 'two', 'four', 'six']"
      ]
     },
     "execution_count": 40,
     "metadata": {},
     "output_type": "execute_result"
    }
   ],
   "source": [
    "list.reverse()\n",
    "list"
   ]
  },
  {
   "cell_type": "code",
   "execution_count": 41,
   "metadata": {},
   "outputs": [
    {
     "data": {
      "text/plain": [
       "['four', 'seven', 'six', 'two']"
      ]
     },
     "execution_count": 41,
     "metadata": {},
     "output_type": "execute_result"
    }
   ],
   "source": [
    "list.sort()\n",
    "list"
   ]
  },
  {
   "cell_type": "code",
   "execution_count": 42,
   "metadata": {},
   "outputs": [
    {
     "data": {
      "text/plain": [
       "['two', 'six', 'seven', 'four']"
      ]
     },
     "execution_count": 42,
     "metadata": {},
     "output_type": "execute_result"
    }
   ],
   "source": [
    "list.sort(reverse = True)\n",
    "list"
   ]
  },
  {
   "cell_type": "code",
   "execution_count": 43,
   "metadata": {},
   "outputs": [
    {
     "data": {
      "text/plain": [
       "4"
      ]
     },
     "execution_count": 43,
     "metadata": {},
     "output_type": "execute_result"
    }
   ],
   "source": [
    "len(list)"
   ]
  },
  {
   "cell_type": "code",
   "execution_count": 44,
   "metadata": {},
   "outputs": [
    {
     "data": {
      "text/plain": [
       "'four'"
      ]
     },
     "execution_count": 44,
     "metadata": {},
     "output_type": "execute_result"
    }
   ],
   "source": [
    "list[-1]"
   ]
  },
  {
   "cell_type": "markdown",
   "metadata": {},
   "source": [
    "## 3-11. Intentional Error: If you haven’t received an index error in one of your programs yet, try to make one happen. Change an index in one of your programs to produce an index error. Make sure you correct the error before closing the program."
   ]
  },
  {
   "cell_type": "code",
   "execution_count": 45,
   "metadata": {},
   "outputs": [
    {
     "ename": "IndexError",
     "evalue": "list index out of range",
     "output_type": "error",
     "traceback": [
      "\u001b[1;31m---------------------------------------------------------------------------\u001b[0m",
      "\u001b[1;31mIndexError\u001b[0m                                Traceback (most recent call last)",
      "\u001b[1;32m<ipython-input-45-853c8927f3be>\u001b[0m in \u001b[0;36m<module>\u001b[1;34m\u001b[0m\n\u001b[1;32m----> 1\u001b[1;33m \u001b[0mlist\u001b[0m\u001b[1;33m[\u001b[0m\u001b[1;36m4\u001b[0m\u001b[1;33m]\u001b[0m\u001b[1;33m\u001b[0m\u001b[1;33m\u001b[0m\u001b[0m\n\u001b[0m",
      "\u001b[1;31mIndexError\u001b[0m: list index out of range"
     ]
    }
   ],
   "source": [
    "list[4]"
   ]
  },
  {
   "cell_type": "code",
   "execution_count": null,
   "metadata": {},
   "outputs": [],
   "source": []
  }
 ],
 "metadata": {
  "kernelspec": {
   "display_name": "Python 3",
   "language": "python",
   "name": "python3"
  },
  "language_info": {
   "codemirror_mode": {
    "name": "ipython",
    "version": 3
   },
   "file_extension": ".py",
   "mimetype": "text/x-python",
   "name": "python",
   "nbconvert_exporter": "python",
   "pygments_lexer": "ipython3",
   "version": "3.8.3"
  }
 },
 "nbformat": 4,
 "nbformat_minor": 4
}
